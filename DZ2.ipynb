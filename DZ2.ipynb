"C:\Users\User\OneDrive\Рабочий стол\DZ2.html"
